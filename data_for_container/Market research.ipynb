{
 "cells": [
  {
   "cell_type": "markdown",
   "metadata": {},
   "source": [
    "# Creating parser for HH.Ru"
   ]
  },
  {
   "cell_type": "code",
   "execution_count": 1,
   "metadata": {},
   "outputs": [
    {
     "name": "stdout",
     "output_type": "stream",
     "text": [
      "Using matplotlib backend: MacOSX\n"
     ]
    },
    {
     "data": {
      "text/html": [
       "        <script type=\"text/javascript\">\n",
       "        window.PlotlyConfig = {MathJaxConfig: 'local'};\n",
       "        if (window.MathJax) {MathJax.Hub.Config({SVG: {font: \"STIX-Web\"}});}\n",
       "        if (typeof require !== 'undefined') {\n",
       "        require.undef(\"plotly\");\n",
       "        requirejs.config({\n",
       "            paths: {\n",
       "                'plotly': ['https://cdn.plot.ly/plotly-latest.min']\n",
       "            }\n",
       "        });\n",
       "        require(['plotly'], function(Plotly) {\n",
       "            window._Plotly = Plotly;\n",
       "        });\n",
       "        }\n",
       "        </script>\n",
       "        "
      ]
     },
     "metadata": {},
     "output_type": "display_data"
    },
    {
     "name": "stdout",
     "output_type": "stream",
     "text": [
      "                               title  \\\n",
      "0                 Software developer   \n",
      "1   Lead Mobile Networking Architect   \n",
      "2                  Developer-analyst   \n",
      "3                   Python-developer   \n",
      "4                   Python-developer   \n",
      "5                Python&JS-developer   \n",
      "6              DevOps Engineer Linux   \n",
      "7                     Python teacher   \n",
      "8                 Senior QA Engineer   \n",
      "9                       DB-developer   \n",
      "10                 Software Engineer   \n",
      "11             Senior system analyst   \n",
      "12                      DB-developer   \n",
      "13                 BigData-developer   \n",
      "\n",
      "                                                href                 company  \\\n",
      "0   https://tver.hh.ru/vacancy/32843807?query=Python             OOO Integer   \n",
      "1   https://tver.hh.ru/vacancy/33321515?query=Python          Nokia Networks   \n",
      "2   https://tver.hh.ru/vacancy/32790471?query=Python       OOO Alpha Company   \n",
      "3   https://tver.hh.ru/vacancy/31510872?query=Python                RuBaseIT   \n",
      "4   https://tver.hh.ru/vacancy/32730086?query=Python                RuBaseIT   \n",
      "5   https://tver.hh.ru/vacancy/30693999?query=Python                RuBaseIT   \n",
      "6   https://tver.hh.ru/vacancy/33009714?query=Python         OOO Telecontact   \n",
      "7   https://tver.hh.ru/vacancy/32856867?query=Python  techno-land Quantorium   \n",
      "8   https://tver.hh.ru/vacancy/32849995?query=Python        Studio-Evolution   \n",
      "9   https://tver.hh.ru/vacancy/31510793?query=Python                RuBaseIT   \n",
      "10  https://tver.hh.ru/vacancy/31510904?query=Python                RuBaseIT   \n",
      "11  https://tver.hh.ru/vacancy/31452735?query=Python               Accenture   \n",
      "12  https://tver.hh.ru/vacancy/31510838?query=Python                RuBaseIT   \n",
      "13  https://tver.hh.ru/vacancy/32803116?query=Python         EPAM System Inc   \n",
      "\n",
      "    compensation  \n",
      "0        30000.0  \n",
      "1            NaN  \n",
      "2        55000.0  \n",
      "3        52500.0  \n",
      "4        60000.0  \n",
      "5        70000.0  \n",
      "6        50000.0  \n",
      "7        33000.0  \n",
      "8        95000.0  \n",
      "9            NaN  \n",
      "10           NaN  \n",
      "11           NaN  \n",
      "12           NaN  \n",
      "13           NaN  \n",
      "По запросу найдено:  19 \n",
      "\n",
      "АО Торговая Компания Альфа\n",
      "https://tver.hh.ru/vacancy/32790471?query=Python\n",
      "Программист Python\n",
      "до 55 000 руб. \n",
      "\n",
      " NAUMEN\n",
      "https://tver.hh.ru/vacancy/34449527?query=Python\n",
      "Разработчик Scala / Junior Scala Developer (готовы переучивать с Java / C++ / С# / Python и др.)\n",
      " \n",
      "\n",
      " Русские базовые информационные технологии, Научно-производственное объединение\n",
      "https://tver.hh.ru/vacancy/35032551?query=Python\n",
      "Разработчик по Javascript и Python\n",
      "от 70 000 руб. \n",
      "\n",
      " Русские базовые информационные технологии, Научно-производственное объединение\n",
      "https://tver.hh.ru/vacancy/34298779?query=Python\n",
      "Python-разработчик\n",
      "от 60 000 руб. \n",
      "\n",
      "ООО ТЕЛЕКОНТАКТ\n",
      "https://tver.hh.ru/vacancy/34318985?query=Python\n",
      "Разработчик Python\n",
      "50 000-80 000 руб. \n",
      "\n",
      " NAUMEN\n",
      "https://tver.hh.ru/vacancy/34616325?query=Python\n",
      "Разработчик Scala / Middle Scala Developer (готовы переучивать с Java / C++ / С# / Python)\n",
      " \n",
      "\n",
      " EPAM Systems, Inc.\n",
      "https://tver.hh.ru/vacancy/35101266?query=Python\n",
      "DevOps engineer\n",
      " \n",
      "\n",
      " NAUMEN\n",
      "https://tver.hh.ru/vacancy/34450096?query=Python\n",
      "Разработчик Scala / Middle Scala Developer (готовы переучивать с Java / C++ / С# / Python)\n",
      " \n",
      "\n",
      " Ассоциация «Русский Свет»\n",
      "https://tver.hh.ru/vacancy/34680900?query=Python\n",
      "System Analyst (IT Consultant)\n",
      " \n",
      "\n",
      " Русские базовые информационные технологии, Научно-производственное объединение\n",
      "https://tver.hh.ru/vacancy/34299812?query=Python\n",
      "Разработчик-проектировщик баз данных (ведущий инженер-программист)\n",
      " \n",
      "\n",
      "ЗАО НИЦ РЕЗОНАНС\n",
      "https://tver.hh.ru/vacancy/34467042?query=Python\n",
      "Программист С++\n",
      " \n",
      "\n",
      " Tibbo\n",
      "https://tver.hh.ru/vacancy/34979480?query=Python\n",
      "Специалист по внедрению корпоративного ПО\n",
      "от 40 000 руб. \n",
      "\n",
      " Studio-Evolution\n",
      "https://tver.hh.ru/vacancy/34931987?query=Python\n",
      "Cтарший тестировщик (QA инженер)\n",
      "от 60 000 руб. \n",
      "\n",
      " Otto Group Russia - ООО ДИРЕКТ КАТАЛОГ СЕРВИС\n",
      "https://tver.hh.ru/vacancy/34345385?query=Python\n",
      "Системный администратор Linux\n",
      " \n",
      "\n",
      " EPAM Systems, Inc.\n",
      "https://tver.hh.ru/vacancy/34891362?query=Python\n",
      "Big Data разработчик\n",
      " \n",
      "\n",
      " Accenture\n",
      "https://tver.hh.ru/vacancy/34446516?query=Python\n",
      "Senior system analyst\n",
      " \n",
      "\n",
      "ИП Дубовицкая Светлана Владимировна\n",
      "https://tver.hh.ru/vacancy/34905426?query=Python\n",
      "Программист-разработчик\n",
      "от 50 000 руб. \n",
      "\n",
      " ОТП Банк, АО (OTP bank)\n",
      "https://tver.hh.ru/vacancy/34864380?query=Python\n",
      "Ведущий специалист по технической поддержке контактного центра\n",
      " \n",
      "\n",
      "ООО ТЕЛЕКОНТАКТ\n",
      "https://tver.hh.ru/vacancy/34318412?query=Python\n",
      "Системный администратор Linux\n",
      "50 000-80 000 руб. \n",
      "\n",
      "Connection is OK! \n",
      "\n"
     ]
    }
   ],
   "source": [
    "import requests\n",
    "from bs4 import BeautifulSoup as bs\n",
    "import pandas as pd\n",
    "import numpy as np\n",
    "import matplotlib.pyplot as plt\n",
    "%matplotlib\n",
    "import plotly.plotly as py\n",
    "import plotly.graph_objs as go\n",
    "from plotly.offline import iplot\n",
    "import cufflinks\n",
    "cufflinks.go_offline()\n",
    "\n",
    "\n",
    "headers = {'accept': '*/*',\n",
    "           'user-agent': 'Mozilla/5.0 (Macintosh; Intel Mac OS X 10_14_5) AppleWebKit/537.36 (KHTML, like Gecko) '\n",
    "                         'Chrome/74.0.3729.169 Safari/537.36'}\n",
    "\n",
    "base_url = 'https://tver.hh.ru/search/vacancy?area=89&text=Python'\n",
    "\n",
    "\n",
    "def Parser(base_url, headers):\n",
    "    global title, company, href, compensation\n",
    "    data = []\n",
    "\n",
    "    session = requests.Session()\n",
    "    request = session.get(base_url, headers=headers)\n",
    "    if request.status_code == 200:\n",
    "        soup = bs(request.content, 'html.parser')\n",
    "        divs = soup.find_all('div', attrs={'data-qa': 'vacancy-serp__vacancy'})\n",
    "\n",
    "        print('По запросу найдено: ', len(divs), '\\n')\n",
    "        for div in divs:\n",
    "            title = div.find('a', attrs={'data-qa': 'vacancy-serp__vacancy-title'}).text\n",
    "            href = div.find('a', attrs={'data-qa': 'vacancy-serp__vacancy-title'})['href']\n",
    "            company = div.find('a', attrs={'data-qa': 'vacancy-serp__vacancy-employer'}).text\n",
    "            compensation = div.find('div', class_=\"vacancy-serp-item__sidebar\").text\n",
    "\n",
    "            print(company)\n",
    "            print(href)\n",
    "            print(title)\n",
    "            print(compensation, '\\n')\n",
    "\n",
    "        print(\"Connection is OK! \\n\")\n",
    "    else:\n",
    "        print(\"Connection denied! \\n\")\n",
    "\n",
    "    data.append({\n",
    "        'title': title,\n",
    "        'href': href,\n",
    "        'company': company,\n",
    "        'compensation': compensation\n",
    "    })\n",
    "\n",
    "\n",
    "Frame = pd.DataFrame({'title': ['Software developer',                   # 1\n",
    "                                'Lead Mobile Networking Architect',     # 2\n",
    "                                'Developer-analyst',                    # 3\n",
    "                                'Python-developer',                     # 4\n",
    "                                'Python-developer',                     # 5\n",
    "                                'Python&JS-developer',                  # 6\n",
    "                                'DevOps Engineer Linux',                # 7\n",
    "                                'Python teacher',                       # 8\n",
    "                                'Senior QA Engineer',                   # 9\n",
    "                                'DB-developer',                         # 10\n",
    "                                'Software Engineer',                    # 11\n",
    "                                'Senior system analyst',                # 12\n",
    "                                'DB-developer',                         # 13\n",
    "                                'BigData-developer',                    # 14\n",
    "                                ],\n",
    "\n",
    "                      'href': ['https://tver.hh.ru/vacancy/32843807?query=Python',\n",
    "                               'https://tver.hh.ru/vacancy/33321515?query=Python',\n",
    "                               'https://tver.hh.ru/vacancy/32790471?query=Python',\n",
    "                               'https://tver.hh.ru/vacancy/31510872?query=Python',\n",
    "                               'https://tver.hh.ru/vacancy/32730086?query=Python',\n",
    "                               'https://tver.hh.ru/vacancy/30693999?query=Python',\n",
    "                               'https://tver.hh.ru/vacancy/33009714?query=Python',\n",
    "                               'https://tver.hh.ru/vacancy/32856867?query=Python',\n",
    "                               'https://tver.hh.ru/vacancy/32849995?query=Python',\n",
    "                               'https://tver.hh.ru/vacancy/31510793?query=Python',\n",
    "                               'https://tver.hh.ru/vacancy/31510904?query=Python',\n",
    "                               'https://tver.hh.ru/vacancy/31452735?query=Python',\n",
    "                               'https://tver.hh.ru/vacancy/31510838?query=Python',\n",
    "                               'https://tver.hh.ru/vacancy/32803116?query=Python'],\n",
    "\n",
    "                      'company': ['OOO Integer',\n",
    "                                  'Nokia Networks',\n",
    "                                  'OOO Alpha Company',\n",
    "                                  'RuBaseIT',\n",
    "                                  'RuBaseIT',\n",
    "                                  'RuBaseIT',\n",
    "                                  'OOO Telecontact',\n",
    "                                  'techno-land Quantorium',\n",
    "                                  'Studio-Evolution',\n",
    "                                  'RuBaseIT',\n",
    "                                  'RuBaseIT',\n",
    "                                  'Accenture',\n",
    "                                  'RuBaseIT',\n",
    "                                  'EPAM System Inc',\n",
    "                                  ],\n",
    "\n",
    "                      'compensation': [30000,\n",
    "                                       None,\n",
    "                                       55000,\n",
    "                                       52500,\n",
    "                                       60000,\n",
    "                                       70000,\n",
    "                                       50000,\n",
    "                                       33000,\n",
    "                                       95000,\n",
    "                                       None,\n",
    "                                       None,\n",
    "                                       None,\n",
    "                                       None,\n",
    "                                       None]})\n",
    "\n",
    "print(Frame)\n",
    "Frame.to_csv('OutputData.csv', sep='\\t', header=True, index=True)\n",
    "\n",
    "Parser(base_url, headers)\n"
   ]
  },
  {
   "cell_type": "markdown",
   "metadata": {},
   "source": [
    "# Python DataFrame "
   ]
  },
  {
   "cell_type": "code",
   "execution_count": 5,
   "metadata": {},
   "outputs": [
    {
     "data": {
      "text/html": [
       "<div>\n",
       "<style scoped>\n",
       "    .dataframe tbody tr th:only-of-type {\n",
       "        vertical-align: middle;\n",
       "    }\n",
       "\n",
       "    .dataframe tbody tr th {\n",
       "        vertical-align: top;\n",
       "    }\n",
       "\n",
       "    .dataframe thead th {\n",
       "        text-align: right;\n",
       "    }\n",
       "</style>\n",
       "<table border=\"1\" class=\"dataframe\">\n",
       "  <thead>\n",
       "    <tr style=\"text-align: right;\">\n",
       "      <th></th>\n",
       "      <th>title</th>\n",
       "      <th>href</th>\n",
       "      <th>company</th>\n",
       "      <th>compensation</th>\n",
       "    </tr>\n",
       "  </thead>\n",
       "  <tbody>\n",
       "    <tr>\n",
       "      <td>0</td>\n",
       "      <td>Software developer</td>\n",
       "      <td>https://tver.hh.ru/vacancy/32843807?query=Python</td>\n",
       "      <td>OOO Integer</td>\n",
       "      <td>30000.0</td>\n",
       "    </tr>\n",
       "    <tr>\n",
       "      <td>1</td>\n",
       "      <td>Lead Mobile Networking Architect</td>\n",
       "      <td>https://tver.hh.ru/vacancy/33321515?query=Python</td>\n",
       "      <td>Nokia Networks</td>\n",
       "      <td>NaN</td>\n",
       "    </tr>\n",
       "    <tr>\n",
       "      <td>2</td>\n",
       "      <td>Developer-analyst</td>\n",
       "      <td>https://tver.hh.ru/vacancy/32790471?query=Python</td>\n",
       "      <td>OOO Alpha Company</td>\n",
       "      <td>55000.0</td>\n",
       "    </tr>\n",
       "    <tr>\n",
       "      <td>3</td>\n",
       "      <td>Python-developer</td>\n",
       "      <td>https://tver.hh.ru/vacancy/31510872?query=Python</td>\n",
       "      <td>RuBaseIT</td>\n",
       "      <td>52500.0</td>\n",
       "    </tr>\n",
       "    <tr>\n",
       "      <td>4</td>\n",
       "      <td>Python-developer</td>\n",
       "      <td>https://tver.hh.ru/vacancy/32730086?query=Python</td>\n",
       "      <td>RuBaseIT</td>\n",
       "      <td>60000.0</td>\n",
       "    </tr>\n",
       "    <tr>\n",
       "      <td>5</td>\n",
       "      <td>Python&amp;JS-developer</td>\n",
       "      <td>https://tver.hh.ru/vacancy/30693999?query=Python</td>\n",
       "      <td>RuBaseIT</td>\n",
       "      <td>70000.0</td>\n",
       "    </tr>\n",
       "    <tr>\n",
       "      <td>6</td>\n",
       "      <td>DevOps Engineer Linux</td>\n",
       "      <td>https://tver.hh.ru/vacancy/33009714?query=Python</td>\n",
       "      <td>OOO Telecontact</td>\n",
       "      <td>50000.0</td>\n",
       "    </tr>\n",
       "    <tr>\n",
       "      <td>7</td>\n",
       "      <td>Python teacher</td>\n",
       "      <td>https://tver.hh.ru/vacancy/32856867?query=Python</td>\n",
       "      <td>techno-land Quantorium</td>\n",
       "      <td>33000.0</td>\n",
       "    </tr>\n",
       "    <tr>\n",
       "      <td>8</td>\n",
       "      <td>Senior QA Engineer</td>\n",
       "      <td>https://tver.hh.ru/vacancy/32849995?query=Python</td>\n",
       "      <td>Studio-Evolution</td>\n",
       "      <td>95000.0</td>\n",
       "    </tr>\n",
       "    <tr>\n",
       "      <td>9</td>\n",
       "      <td>DB-developer</td>\n",
       "      <td>https://tver.hh.ru/vacancy/31510793?query=Python</td>\n",
       "      <td>RuBaseIT</td>\n",
       "      <td>NaN</td>\n",
       "    </tr>\n",
       "    <tr>\n",
       "      <td>10</td>\n",
       "      <td>Software Engineer</td>\n",
       "      <td>https://tver.hh.ru/vacancy/31510904?query=Python</td>\n",
       "      <td>RuBaseIT</td>\n",
       "      <td>NaN</td>\n",
       "    </tr>\n",
       "    <tr>\n",
       "      <td>11</td>\n",
       "      <td>Senior system analyst</td>\n",
       "      <td>https://tver.hh.ru/vacancy/31452735?query=Python</td>\n",
       "      <td>Accenture</td>\n",
       "      <td>NaN</td>\n",
       "    </tr>\n",
       "    <tr>\n",
       "      <td>12</td>\n",
       "      <td>DB-developer</td>\n",
       "      <td>https://tver.hh.ru/vacancy/31510838?query=Python</td>\n",
       "      <td>RuBaseIT</td>\n",
       "      <td>NaN</td>\n",
       "    </tr>\n",
       "    <tr>\n",
       "      <td>13</td>\n",
       "      <td>BigData-developer</td>\n",
       "      <td>https://tver.hh.ru/vacancy/32803116?query=Python</td>\n",
       "      <td>EPAM System Inc</td>\n",
       "      <td>NaN</td>\n",
       "    </tr>\n",
       "  </tbody>\n",
       "</table>\n",
       "</div>"
      ],
      "text/plain": [
       "                               title  \\\n",
       "0                 Software developer   \n",
       "1   Lead Mobile Networking Architect   \n",
       "2                  Developer-analyst   \n",
       "3                   Python-developer   \n",
       "4                   Python-developer   \n",
       "5                Python&JS-developer   \n",
       "6              DevOps Engineer Linux   \n",
       "7                     Python teacher   \n",
       "8                 Senior QA Engineer   \n",
       "9                       DB-developer   \n",
       "10                 Software Engineer   \n",
       "11             Senior system analyst   \n",
       "12                      DB-developer   \n",
       "13                 BigData-developer   \n",
       "\n",
       "                                                href                 company  \\\n",
       "0   https://tver.hh.ru/vacancy/32843807?query=Python             OOO Integer   \n",
       "1   https://tver.hh.ru/vacancy/33321515?query=Python          Nokia Networks   \n",
       "2   https://tver.hh.ru/vacancy/32790471?query=Python       OOO Alpha Company   \n",
       "3   https://tver.hh.ru/vacancy/31510872?query=Python                RuBaseIT   \n",
       "4   https://tver.hh.ru/vacancy/32730086?query=Python                RuBaseIT   \n",
       "5   https://tver.hh.ru/vacancy/30693999?query=Python                RuBaseIT   \n",
       "6   https://tver.hh.ru/vacancy/33009714?query=Python         OOO Telecontact   \n",
       "7   https://tver.hh.ru/vacancy/32856867?query=Python  techno-land Quantorium   \n",
       "8   https://tver.hh.ru/vacancy/32849995?query=Python        Studio-Evolution   \n",
       "9   https://tver.hh.ru/vacancy/31510793?query=Python                RuBaseIT   \n",
       "10  https://tver.hh.ru/vacancy/31510904?query=Python                RuBaseIT   \n",
       "11  https://tver.hh.ru/vacancy/31452735?query=Python               Accenture   \n",
       "12  https://tver.hh.ru/vacancy/31510838?query=Python                RuBaseIT   \n",
       "13  https://tver.hh.ru/vacancy/32803116?query=Python         EPAM System Inc   \n",
       "\n",
       "    compensation  \n",
       "0        30000.0  \n",
       "1            NaN  \n",
       "2        55000.0  \n",
       "3        52500.0  \n",
       "4        60000.0  \n",
       "5        70000.0  \n",
       "6        50000.0  \n",
       "7        33000.0  \n",
       "8        95000.0  \n",
       "9            NaN  \n",
       "10           NaN  \n",
       "11           NaN  \n",
       "12           NaN  \n",
       "13           NaN  "
      ]
     },
     "execution_count": 5,
     "metadata": {},
     "output_type": "execute_result"
    }
   ],
   "source": [
    "Frame"
   ]
  },
  {
   "cell_type": "markdown",
   "metadata": {},
   "source": [
    "# Java DataFrame "
   ]
  },
  {
   "cell_type": "code",
   "execution_count": 6,
   "metadata": {},
   "outputs": [],
   "source": [
    "import bamboolib as bam"
   ]
  },
  {
   "cell_type": "code",
   "execution_count": null,
   "metadata": {},
   "outputs": [],
   "source": []
  },
  {
   "cell_type": "markdown",
   "metadata": {},
   "source": [
    "# Computer Vision "
   ]
  },
  {
   "cell_type": "code",
   "execution_count": 7,
   "metadata": {},
   "outputs": [],
   "source": [
    "CompVis = pd.read_csv('/Users/admin/PycharmProjects/parser/CV_Data.csv', sep='\\t', error_bad_lines=False)"
   ]
  },
  {
   "cell_type": "code",
   "execution_count": 8,
   "metadata": {},
   "outputs": [
    {
     "data": {
      "text/html": [
       "<div>\n",
       "<style scoped>\n",
       "    .dataframe tbody tr th:only-of-type {\n",
       "        vertical-align: middle;\n",
       "    }\n",
       "\n",
       "    .dataframe tbody tr th {\n",
       "        vertical-align: top;\n",
       "    }\n",
       "\n",
       "    .dataframe thead th {\n",
       "        text-align: right;\n",
       "    }\n",
       "</style>\n",
       "<table border=\"1\" class=\"dataframe\">\n",
       "  <thead>\n",
       "    <tr style=\"text-align: right;\">\n",
       "      <th></th>\n",
       "      <th>Unnamed: 0</th>\n",
       "      <th>title</th>\n",
       "      <th>href</th>\n",
       "      <th>company</th>\n",
       "      <th>compensation</th>\n",
       "    </tr>\n",
       "  </thead>\n",
       "  <tbody>\n",
       "    <tr>\n",
       "      <td>0</td>\n",
       "      <td>0</td>\n",
       "      <td>Computer Vision intern</td>\n",
       "      <td>https://tver.hh.ru/vacancy/32712667?query=%D0%...</td>\n",
       "      <td>OOO 2050 Integrator</td>\n",
       "      <td>NaN</td>\n",
       "    </tr>\n",
       "    <tr>\n",
       "      <td>1</td>\n",
       "      <td>1</td>\n",
       "      <td>Team Lead Computer Vision Engineer</td>\n",
       "      <td>https://tver.hh.ru/vacancy/33303067?query=%D0%...</td>\n",
       "      <td>OOO 2050 Integrator</td>\n",
       "      <td>NaN</td>\n",
       "    </tr>\n",
       "  </tbody>\n",
       "</table>\n",
       "</div>"
      ],
      "text/plain": [
       "   Unnamed: 0                               title  \\\n",
       "0           0              Computer Vision intern   \n",
       "1           1  Team Lead Computer Vision Engineer   \n",
       "\n",
       "                                                href              company  \\\n",
       "0  https://tver.hh.ru/vacancy/32712667?query=%D0%...  OOO 2050 Integrator   \n",
       "1  https://tver.hh.ru/vacancy/33303067?query=%D0%...  OOO 2050 Integrator   \n",
       "\n",
       "   compensation  \n",
       "0           NaN  \n",
       "1           NaN  "
      ]
     },
     "metadata": {},
     "output_type": "display_data"
    }
   ],
   "source": [
    "CompVis"
   ]
  },
  {
   "cell_type": "code",
   "execution_count": null,
   "metadata": {},
   "outputs": [],
   "source": []
  },
  {
   "cell_type": "code",
   "execution_count": null,
   "metadata": {},
   "outputs": [],
   "source": []
  },
  {
   "cell_type": "code",
   "execution_count": 9,
   "metadata": {},
   "outputs": [],
   "source": [
    "Union_df = pd.concat([Frame, CompVis], ignore_index=True)"
   ]
  },
  {
   "cell_type": "code",
   "execution_count": 10,
   "metadata": {},
   "outputs": [],
   "source": [
    "Union_df = Union_df.drop(columns='Unnamed: 0')"
   ]
  },
  {
   "cell_type": "markdown",
   "metadata": {},
   "source": [
    "# Union DataFrame (Python + Java + CompVis)"
   ]
  },
  {
   "cell_type": "code",
   "execution_count": 11,
   "metadata": {},
   "outputs": [
    {
     "data": {
      "text/html": [
       "<div>\n",
       "<style scoped>\n",
       "    .dataframe tbody tr th:only-of-type {\n",
       "        vertical-align: middle;\n",
       "    }\n",
       "\n",
       "    .dataframe tbody tr th {\n",
       "        vertical-align: top;\n",
       "    }\n",
       "\n",
       "    .dataframe thead th {\n",
       "        text-align: right;\n",
       "    }\n",
       "</style>\n",
       "<table border=\"1\" class=\"dataframe\">\n",
       "  <thead>\n",
       "    <tr style=\"text-align: right;\">\n",
       "      <th></th>\n",
       "      <th>company</th>\n",
       "      <th>compensation</th>\n",
       "      <th>href</th>\n",
       "      <th>title</th>\n",
       "    </tr>\n",
       "  </thead>\n",
       "  <tbody>\n",
       "    <tr>\n",
       "      <td>0</td>\n",
       "      <td>OOO Integer</td>\n",
       "      <td>30000.0</td>\n",
       "      <td>https://tver.hh.ru/vacancy/32843807?query=Python</td>\n",
       "      <td>Software developer</td>\n",
       "    </tr>\n",
       "    <tr>\n",
       "      <td>1</td>\n",
       "      <td>Nokia Networks</td>\n",
       "      <td>NaN</td>\n",
       "      <td>https://tver.hh.ru/vacancy/33321515?query=Python</td>\n",
       "      <td>Lead Mobile Networking Architect</td>\n",
       "    </tr>\n",
       "    <tr>\n",
       "      <td>2</td>\n",
       "      <td>OOO Alpha Company</td>\n",
       "      <td>55000.0</td>\n",
       "      <td>https://tver.hh.ru/vacancy/32790471?query=Python</td>\n",
       "      <td>Developer-analyst</td>\n",
       "    </tr>\n",
       "    <tr>\n",
       "      <td>3</td>\n",
       "      <td>RuBaseIT</td>\n",
       "      <td>52500.0</td>\n",
       "      <td>https://tver.hh.ru/vacancy/31510872?query=Python</td>\n",
       "      <td>Python-developer</td>\n",
       "    </tr>\n",
       "    <tr>\n",
       "      <td>4</td>\n",
       "      <td>RuBaseIT</td>\n",
       "      <td>60000.0</td>\n",
       "      <td>https://tver.hh.ru/vacancy/32730086?query=Python</td>\n",
       "      <td>Python-developer</td>\n",
       "    </tr>\n",
       "    <tr>\n",
       "      <td>5</td>\n",
       "      <td>RuBaseIT</td>\n",
       "      <td>70000.0</td>\n",
       "      <td>https://tver.hh.ru/vacancy/30693999?query=Python</td>\n",
       "      <td>Python&amp;JS-developer</td>\n",
       "    </tr>\n",
       "    <tr>\n",
       "      <td>6</td>\n",
       "      <td>OOO Telecontact</td>\n",
       "      <td>50000.0</td>\n",
       "      <td>https://tver.hh.ru/vacancy/33009714?query=Python</td>\n",
       "      <td>DevOps Engineer Linux</td>\n",
       "    </tr>\n",
       "    <tr>\n",
       "      <td>7</td>\n",
       "      <td>techno-land Quantorium</td>\n",
       "      <td>33000.0</td>\n",
       "      <td>https://tver.hh.ru/vacancy/32856867?query=Python</td>\n",
       "      <td>Python teacher</td>\n",
       "    </tr>\n",
       "    <tr>\n",
       "      <td>8</td>\n",
       "      <td>Studio-Evolution</td>\n",
       "      <td>95000.0</td>\n",
       "      <td>https://tver.hh.ru/vacancy/32849995?query=Python</td>\n",
       "      <td>Senior QA Engineer</td>\n",
       "    </tr>\n",
       "    <tr>\n",
       "      <td>9</td>\n",
       "      <td>RuBaseIT</td>\n",
       "      <td>NaN</td>\n",
       "      <td>https://tver.hh.ru/vacancy/31510793?query=Python</td>\n",
       "      <td>DB-developer</td>\n",
       "    </tr>\n",
       "    <tr>\n",
       "      <td>10</td>\n",
       "      <td>RuBaseIT</td>\n",
       "      <td>NaN</td>\n",
       "      <td>https://tver.hh.ru/vacancy/31510904?query=Python</td>\n",
       "      <td>Software Engineer</td>\n",
       "    </tr>\n",
       "    <tr>\n",
       "      <td>11</td>\n",
       "      <td>Accenture</td>\n",
       "      <td>NaN</td>\n",
       "      <td>https://tver.hh.ru/vacancy/31452735?query=Python</td>\n",
       "      <td>Senior system analyst</td>\n",
       "    </tr>\n",
       "    <tr>\n",
       "      <td>12</td>\n",
       "      <td>RuBaseIT</td>\n",
       "      <td>NaN</td>\n",
       "      <td>https://tver.hh.ru/vacancy/31510838?query=Python</td>\n",
       "      <td>DB-developer</td>\n",
       "    </tr>\n",
       "    <tr>\n",
       "      <td>13</td>\n",
       "      <td>EPAM System Inc</td>\n",
       "      <td>NaN</td>\n",
       "      <td>https://tver.hh.ru/vacancy/32803116?query=Python</td>\n",
       "      <td>BigData-developer</td>\n",
       "    </tr>\n",
       "    <tr>\n",
       "      <td>14</td>\n",
       "      <td>OOO 2050 Integrator</td>\n",
       "      <td>NaN</td>\n",
       "      <td>https://tver.hh.ru/vacancy/32712667?query=%D0%...</td>\n",
       "      <td>Computer Vision intern</td>\n",
       "    </tr>\n",
       "    <tr>\n",
       "      <td>15</td>\n",
       "      <td>OOO 2050 Integrator</td>\n",
       "      <td>NaN</td>\n",
       "      <td>https://tver.hh.ru/vacancy/33303067?query=%D0%...</td>\n",
       "      <td>Team Lead Computer Vision Engineer</td>\n",
       "    </tr>\n",
       "  </tbody>\n",
       "</table>\n",
       "</div>"
      ],
      "text/plain": [
       "                   company  compensation  \\\n",
       "0              OOO Integer       30000.0   \n",
       "1           Nokia Networks           NaN   \n",
       "2        OOO Alpha Company       55000.0   \n",
       "3                 RuBaseIT       52500.0   \n",
       "4                 RuBaseIT       60000.0   \n",
       "5                 RuBaseIT       70000.0   \n",
       "6          OOO Telecontact       50000.0   \n",
       "7   techno-land Quantorium       33000.0   \n",
       "8         Studio-Evolution       95000.0   \n",
       "9                 RuBaseIT           NaN   \n",
       "10                RuBaseIT           NaN   \n",
       "11               Accenture           NaN   \n",
       "12                RuBaseIT           NaN   \n",
       "13         EPAM System Inc           NaN   \n",
       "14     OOO 2050 Integrator           NaN   \n",
       "15     OOO 2050 Integrator           NaN   \n",
       "\n",
       "                                                 href  \\\n",
       "0    https://tver.hh.ru/vacancy/32843807?query=Python   \n",
       "1    https://tver.hh.ru/vacancy/33321515?query=Python   \n",
       "2    https://tver.hh.ru/vacancy/32790471?query=Python   \n",
       "3    https://tver.hh.ru/vacancy/31510872?query=Python   \n",
       "4    https://tver.hh.ru/vacancy/32730086?query=Python   \n",
       "5    https://tver.hh.ru/vacancy/30693999?query=Python   \n",
       "6    https://tver.hh.ru/vacancy/33009714?query=Python   \n",
       "7    https://tver.hh.ru/vacancy/32856867?query=Python   \n",
       "8    https://tver.hh.ru/vacancy/32849995?query=Python   \n",
       "9    https://tver.hh.ru/vacancy/31510793?query=Python   \n",
       "10   https://tver.hh.ru/vacancy/31510904?query=Python   \n",
       "11   https://tver.hh.ru/vacancy/31452735?query=Python   \n",
       "12   https://tver.hh.ru/vacancy/31510838?query=Python   \n",
       "13   https://tver.hh.ru/vacancy/32803116?query=Python   \n",
       "14  https://tver.hh.ru/vacancy/32712667?query=%D0%...   \n",
       "15  https://tver.hh.ru/vacancy/33303067?query=%D0%...   \n",
       "\n",
       "                                 title  \n",
       "0                   Software developer  \n",
       "1     Lead Mobile Networking Architect  \n",
       "2                    Developer-analyst  \n",
       "3                     Python-developer  \n",
       "4                     Python-developer  \n",
       "5                  Python&JS-developer  \n",
       "6                DevOps Engineer Linux  \n",
       "7                       Python teacher  \n",
       "8                   Senior QA Engineer  \n",
       "9                         DB-developer  \n",
       "10                   Software Engineer  \n",
       "11               Senior system analyst  \n",
       "12                        DB-developer  \n",
       "13                   BigData-developer  \n",
       "14              Computer Vision intern  \n",
       "15  Team Lead Computer Vision Engineer  "
      ]
     },
     "metadata": {},
     "output_type": "display_data"
    }
   ],
   "source": [
    "Union_df"
   ]
  },
  {
   "cell_type": "code",
   "execution_count": 12,
   "metadata": {},
   "outputs": [
    {
     "data": {
      "application/vnd.jupyter.widget-view+json": {
       "model_id": "71f82b8bdd9446f9968690a648e16c0b",
       "version_major": 2,
       "version_minor": 0
      },
      "text/plain": [
       "VBox(children=(HTML(value='<div style=\"color:#004085;background-color:#cce5ff;border-color:#b8daff;position: r…"
      ]
     },
     "metadata": {},
     "output_type": "display_data"
    }
   ],
   "source": [
    "bam.show(Union_df)"
   ]
  },
  {
   "cell_type": "code",
   "execution_count": null,
   "metadata": {},
   "outputs": [],
   "source": [
    "Union_df.iplot(\n",
    "    x='company',\n",
    "    y='title',\n",
    "    # Указываем категорию\n",
    "    xTitle='company',\n",
    "    yTitle='title',\n",
    "    title='Dependence of title on company')"
   ]
  },
  {
   "cell_type": "code",
   "execution_count": null,
   "metadata": {},
   "outputs": [],
   "source": [
    "Union_df.iplot(\n",
    "    x='title',\n",
    "    y='compensation',\n",
    "    # Указываем категорию\n",
    "    xTitle='Position',\n",
    "    yTitle='Salary',\n",
    "    title='Dependence of salary on position')"
   ]
  },
  {
   "cell_type": "code",
   "execution_count": null,
   "metadata": {},
   "outputs": [],
   "source": [
    "import plotly.plotly as py\n",
    "import plotly.graph_objs as go\n",
    "from plotly.offline import iplot\n",
    "import cufflinks\n",
    "cufflinks.go_offline()\n",
    "\n",
    "Union_df['compensation'].iplot(kind='hist', xTitle='Linear Distribution',\n",
    "                  yTitle='Increase', title='Salary Distribution')\n",
    "\n",
    "diff = Union_df['compensation'].diff().hist()\n",
    "print('Discrete difference: ', diff)\n",
    "compensation_mean = Union_df.get('compensation')\n",
    "print('Mean Salary (Rub/Mon): ',compensation_mean.mean())"
   ]
  },
  {
   "cell_type": "code",
   "execution_count": null,
   "metadata": {},
   "outputs": [],
   "source": [
    "import pandas as pd "
   ]
  },
  {
   "cell_type": "code",
   "execution_count": null,
   "metadata": {},
   "outputs": [],
   "source": []
  },
  {
   "cell_type": "code",
   "execution_count": null,
   "metadata": {},
   "outputs": [],
   "source": []
  },
  {
   "cell_type": "code",
   "execution_count": null,
   "metadata": {},
   "outputs": [],
   "source": []
  },
  {
   "cell_type": "code",
   "execution_count": null,
   "metadata": {},
   "outputs": [],
   "source": []
  },
  {
   "cell_type": "code",
   "execution_count": null,
   "metadata": {},
   "outputs": [],
   "source": []
  },
  {
   "cell_type": "code",
   "execution_count": null,
   "metadata": {},
   "outputs": [],
   "source": []
  },
  {
   "cell_type": "code",
   "execution_count": null,
   "metadata": {},
   "outputs": [],
   "source": []
  },
  {
   "cell_type": "code",
   "execution_count": null,
   "metadata": {},
   "outputs": [],
   "source": []
  },
  {
   "cell_type": "code",
   "execution_count": null,
   "metadata": {},
   "outputs": [],
   "source": []
  },
  {
   "cell_type": "code",
   "execution_count": null,
   "metadata": {},
   "outputs": [],
   "source": []
  },
  {
   "cell_type": "code",
   "execution_count": null,
   "metadata": {},
   "outputs": [],
   "source": []
  },
  {
   "cell_type": "code",
   "execution_count": null,
   "metadata": {},
   "outputs": [],
   "source": []
  },
  {
   "cell_type": "code",
   "execution_count": null,
   "metadata": {},
   "outputs": [],
   "source": []
  },
  {
   "cell_type": "code",
   "execution_count": null,
   "metadata": {},
   "outputs": [],
   "source": []
  },
  {
   "cell_type": "code",
   "execution_count": null,
   "metadata": {},
   "outputs": [],
   "source": []
  },
  {
   "cell_type": "code",
   "execution_count": null,
   "metadata": {},
   "outputs": [],
   "source": []
  },
  {
   "cell_type": "code",
   "execution_count": null,
   "metadata": {},
   "outputs": [],
   "source": []
  },
  {
   "cell_type": "code",
   "execution_count": null,
   "metadata": {},
   "outputs": [],
   "source": []
  },
  {
   "cell_type": "code",
   "execution_count": null,
   "metadata": {},
   "outputs": [],
   "source": []
  },
  {
   "cell_type": "code",
   "execution_count": null,
   "metadata": {},
   "outputs": [],
   "source": []
  },
  {
   "cell_type": "code",
   "execution_count": null,
   "metadata": {},
   "outputs": [],
   "source": []
  },
  {
   "cell_type": "code",
   "execution_count": null,
   "metadata": {},
   "outputs": [],
   "source": []
  },
  {
   "cell_type": "code",
   "execution_count": null,
   "metadata": {},
   "outputs": [],
   "source": []
  },
  {
   "cell_type": "code",
   "execution_count": null,
   "metadata": {},
   "outputs": [],
   "source": []
  },
  {
   "cell_type": "code",
   "execution_count": null,
   "metadata": {},
   "outputs": [],
   "source": []
  },
  {
   "cell_type": "code",
   "execution_count": null,
   "metadata": {},
   "outputs": [],
   "source": []
  },
  {
   "cell_type": "code",
   "execution_count": null,
   "metadata": {},
   "outputs": [],
   "source": []
  },
  {
   "cell_type": "code",
   "execution_count": null,
   "metadata": {},
   "outputs": [],
   "source": []
  },
  {
   "cell_type": "code",
   "execution_count": null,
   "metadata": {},
   "outputs": [],
   "source": []
  },
  {
   "cell_type": "code",
   "execution_count": null,
   "metadata": {},
   "outputs": [],
   "source": []
  },
  {
   "cell_type": "code",
   "execution_count": null,
   "metadata": {},
   "outputs": [],
   "source": []
  },
  {
   "cell_type": "code",
   "execution_count": null,
   "metadata": {},
   "outputs": [],
   "source": []
  },
  {
   "cell_type": "code",
   "execution_count": null,
   "metadata": {},
   "outputs": [],
   "source": []
  },
  {
   "cell_type": "code",
   "execution_count": null,
   "metadata": {},
   "outputs": [],
   "source": []
  },
  {
   "cell_type": "code",
   "execution_count": null,
   "metadata": {},
   "outputs": [],
   "source": []
  },
  {
   "cell_type": "code",
   "execution_count": null,
   "metadata": {},
   "outputs": [],
   "source": []
  },
  {
   "cell_type": "code",
   "execution_count": null,
   "metadata": {},
   "outputs": [],
   "source": []
  },
  {
   "cell_type": "code",
   "execution_count": null,
   "metadata": {},
   "outputs": [],
   "source": []
  },
  {
   "cell_type": "code",
   "execution_count": null,
   "metadata": {},
   "outputs": [],
   "source": []
  },
  {
   "cell_type": "code",
   "execution_count": null,
   "metadata": {},
   "outputs": [],
   "source": []
  },
  {
   "cell_type": "code",
   "execution_count": null,
   "metadata": {},
   "outputs": [],
   "source": []
  },
  {
   "cell_type": "code",
   "execution_count": null,
   "metadata": {},
   "outputs": [],
   "source": []
  },
  {
   "cell_type": "code",
   "execution_count": null,
   "metadata": {},
   "outputs": [],
   "source": []
  },
  {
   "cell_type": "code",
   "execution_count": null,
   "metadata": {},
   "outputs": [],
   "source": []
  },
  {
   "cell_type": "code",
   "execution_count": null,
   "metadata": {},
   "outputs": [],
   "source": []
  },
  {
   "cell_type": "code",
   "execution_count": null,
   "metadata": {},
   "outputs": [],
   "source": []
  },
  {
   "cell_type": "code",
   "execution_count": null,
   "metadata": {},
   "outputs": [],
   "source": []
  },
  {
   "cell_type": "code",
   "execution_count": null,
   "metadata": {},
   "outputs": [],
   "source": []
  },
  {
   "cell_type": "code",
   "execution_count": null,
   "metadata": {},
   "outputs": [],
   "source": []
  },
  {
   "cell_type": "code",
   "execution_count": null,
   "metadata": {},
   "outputs": [],
   "source": []
  },
  {
   "cell_type": "code",
   "execution_count": null,
   "metadata": {},
   "outputs": [],
   "source": []
  },
  {
   "cell_type": "code",
   "execution_count": null,
   "metadata": {},
   "outputs": [],
   "source": []
  },
  {
   "cell_type": "code",
   "execution_count": null,
   "metadata": {},
   "outputs": [],
   "source": []
  },
  {
   "cell_type": "code",
   "execution_count": null,
   "metadata": {},
   "outputs": [],
   "source": []
  },
  {
   "cell_type": "code",
   "execution_count": null,
   "metadata": {},
   "outputs": [],
   "source": []
  },
  {
   "cell_type": "code",
   "execution_count": null,
   "metadata": {},
   "outputs": [],
   "source": []
  },
  {
   "cell_type": "code",
   "execution_count": null,
   "metadata": {},
   "outputs": [],
   "source": []
  },
  {
   "cell_type": "code",
   "execution_count": null,
   "metadata": {},
   "outputs": [],
   "source": []
  },
  {
   "cell_type": "code",
   "execution_count": null,
   "metadata": {},
   "outputs": [],
   "source": []
  },
  {
   "cell_type": "code",
   "execution_count": null,
   "metadata": {},
   "outputs": [],
   "source": []
  },
  {
   "cell_type": "code",
   "execution_count": null,
   "metadata": {},
   "outputs": [],
   "source": []
  },
  {
   "cell_type": "code",
   "execution_count": null,
   "metadata": {},
   "outputs": [],
   "source": []
  },
  {
   "cell_type": "code",
   "execution_count": null,
   "metadata": {},
   "outputs": [],
   "source": []
  },
  {
   "cell_type": "code",
   "execution_count": null,
   "metadata": {},
   "outputs": [],
   "source": []
  },
  {
   "cell_type": "code",
   "execution_count": null,
   "metadata": {},
   "outputs": [],
   "source": []
  },
  {
   "cell_type": "code",
   "execution_count": null,
   "metadata": {},
   "outputs": [],
   "source": []
  },
  {
   "cell_type": "code",
   "execution_count": null,
   "metadata": {},
   "outputs": [],
   "source": []
  },
  {
   "cell_type": "code",
   "execution_count": null,
   "metadata": {},
   "outputs": [],
   "source": []
  },
  {
   "cell_type": "code",
   "execution_count": null,
   "metadata": {},
   "outputs": [],
   "source": []
  },
  {
   "cell_type": "code",
   "execution_count": null,
   "metadata": {},
   "outputs": [],
   "source": []
  },
  {
   "cell_type": "code",
   "execution_count": null,
   "metadata": {},
   "outputs": [],
   "source": []
  },
  {
   "cell_type": "code",
   "execution_count": null,
   "metadata": {},
   "outputs": [],
   "source": []
  },
  {
   "cell_type": "code",
   "execution_count": null,
   "metadata": {},
   "outputs": [],
   "source": []
  },
  {
   "cell_type": "code",
   "execution_count": null,
   "metadata": {},
   "outputs": [],
   "source": []
  },
  {
   "cell_type": "code",
   "execution_count": null,
   "metadata": {},
   "outputs": [],
   "source": []
  },
  {
   "cell_type": "code",
   "execution_count": null,
   "metadata": {},
   "outputs": [],
   "source": []
  },
  {
   "cell_type": "code",
   "execution_count": null,
   "metadata": {},
   "outputs": [],
   "source": []
  },
  {
   "cell_type": "code",
   "execution_count": null,
   "metadata": {},
   "outputs": [],
   "source": []
  },
  {
   "cell_type": "code",
   "execution_count": null,
   "metadata": {},
   "outputs": [],
   "source": []
  },
  {
   "cell_type": "code",
   "execution_count": null,
   "metadata": {},
   "outputs": [],
   "source": []
  },
  {
   "cell_type": "code",
   "execution_count": null,
   "metadata": {},
   "outputs": [],
   "source": []
  },
  {
   "cell_type": "code",
   "execution_count": null,
   "metadata": {},
   "outputs": [],
   "source": []
  },
  {
   "cell_type": "code",
   "execution_count": null,
   "metadata": {},
   "outputs": [],
   "source": []
  },
  {
   "cell_type": "code",
   "execution_count": null,
   "metadata": {},
   "outputs": [],
   "source": []
  },
  {
   "cell_type": "code",
   "execution_count": null,
   "metadata": {},
   "outputs": [],
   "source": []
  },
  {
   "cell_type": "code",
   "execution_count": null,
   "metadata": {},
   "outputs": [],
   "source": []
  },
  {
   "cell_type": "code",
   "execution_count": null,
   "metadata": {},
   "outputs": [],
   "source": []
  }
 ],
 "metadata": {
  "kernelspec": {
   "display_name": "Python 3",
   "language": "python",
   "name": "python3"
  },
  "language_info": {
   "codemirror_mode": {
    "name": "ipython",
    "version": 3
   },
   "file_extension": ".py",
   "mimetype": "text/x-python",
   "name": "python",
   "nbconvert_exporter": "python",
   "pygments_lexer": "ipython3",
   "version": "3.7.4"
  }
 },
 "nbformat": 4,
 "nbformat_minor": 2
}
