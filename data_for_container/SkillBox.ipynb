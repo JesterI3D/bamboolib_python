{
 "cells": [
  {
   "cell_type": "code",
   "execution_count": 1,
   "metadata": {},
   "outputs": [
    {
     "name": "stdout",
     "output_type": "stream",
     "text": [
      "Using matplotlib backend: MacOSX\n"
     ]
    }
   ],
   "source": [
    "import pandas as pd\n",
    "import matplotlib.pyplot as plt\n",
    "%matplotlib\n",
    "import seaborn as sns\n",
    "import sklearn\n",
    "import numpy as np\n"
   ]
  },
  {
   "cell_type": "markdown",
   "metadata": {},
   "source": [
    "# Import all library for analysis"
   ]
  },
  {
   "cell_type": "code",
   "execution_count": 2,
   "metadata": {},
   "outputs": [],
   "source": [
    "data = pd.read_csv('/Users/admin/Downloads/data.csv', sep=',')"
   ]
  },
  {
   "cell_type": "code",
   "execution_count": null,
   "metadata": {},
   "outputs": [],
   "source": []
  },
  {
   "cell_type": "code",
   "execution_count": 3,
   "metadata": {},
   "outputs": [
    {
     "data": {
      "text/html": [
       "<div>\n",
       "<style scoped>\n",
       "    .dataframe tbody tr th:only-of-type {\n",
       "        vertical-align: middle;\n",
       "    }\n",
       "\n",
       "    .dataframe tbody tr th {\n",
       "        vertical-align: top;\n",
       "    }\n",
       "\n",
       "    .dataframe thead th {\n",
       "        text-align: right;\n",
       "    }\n",
       "</style>\n",
       "<table border=\"1\" class=\"dataframe\">\n",
       "  <thead>\n",
       "    <tr style=\"text-align: right;\">\n",
       "      <th></th>\n",
       "      <th>nominal</th>\n",
       "      <th>curs</th>\n",
       "    </tr>\n",
       "  </thead>\n",
       "  <tbody>\n",
       "    <tr>\n",
       "      <td>count</td>\n",
       "      <td>409.0</td>\n",
       "      <td>409.000000</td>\n",
       "    </tr>\n",
       "    <tr>\n",
       "      <td>mean</td>\n",
       "      <td>1.0</td>\n",
       "      <td>46.351429</td>\n",
       "    </tr>\n",
       "    <tr>\n",
       "      <td>std</td>\n",
       "      <td>0.0</td>\n",
       "      <td>1.598703</td>\n",
       "    </tr>\n",
       "    <tr>\n",
       "      <td>min</td>\n",
       "      <td>1.0</td>\n",
       "      <td>43.559700</td>\n",
       "    </tr>\n",
       "    <tr>\n",
       "      <td>25%</td>\n",
       "      <td>1.0</td>\n",
       "      <td>44.870700</td>\n",
       "    </tr>\n",
       "    <tr>\n",
       "      <td>50%</td>\n",
       "      <td>1.0</td>\n",
       "      <td>46.517300</td>\n",
       "    </tr>\n",
       "    <tr>\n",
       "      <td>75%</td>\n",
       "      <td>1.0</td>\n",
       "      <td>47.451200</td>\n",
       "    </tr>\n",
       "    <tr>\n",
       "      <td>max</td>\n",
       "      <td>1.0</td>\n",
       "      <td>49.969100</td>\n",
       "    </tr>\n",
       "  </tbody>\n",
       "</table>\n",
       "</div>"
      ],
      "text/plain": [
       "       nominal        curs\n",
       "count    409.0  409.000000\n",
       "mean       1.0   46.351429\n",
       "std        0.0    1.598703\n",
       "min        1.0   43.559700\n",
       "25%        1.0   44.870700\n",
       "50%        1.0   46.517300\n",
       "75%        1.0   47.451200\n",
       "max        1.0   49.969100"
      ]
     },
     "execution_count": 3,
     "metadata": {},
     "output_type": "execute_result"
    }
   ],
   "source": [
    "data.describe()"
   ]
  },
  {
   "cell_type": "markdown",
   "metadata": {},
   "source": [
    "# 7 * 4 = 28 (data for the last 4 weeks)\n",
    "\n",
    "# predict for the week ahead\n"
   ]
  },
  {
   "cell_type": "code",
   "execution_count": 4,
   "metadata": {},
   "outputs": [],
   "source": [
    "past = 7 * 4\n",
    "future = 7\n",
    "start_predict = past\n",
    "\n",
    "value = data['curs']\n",
    "end = len(value) - future\n",
    "raw_df = []\n",
    "\n",
    "for i in range(start_predict, end):\n",
    "    past_and_future_value = value[(i-past):(i+future)]\n",
    "    raw_df.append(list(past_and_future_value))"
   ]
  },
  {
   "cell_type": "code",
   "execution_count": 5,
   "metadata": {},
   "outputs": [
    {
     "data": {
      "text/html": [
       "<div>\n",
       "<style scoped>\n",
       "    .dataframe tbody tr th:only-of-type {\n",
       "        vertical-align: middle;\n",
       "    }\n",
       "\n",
       "    .dataframe tbody tr th {\n",
       "        vertical-align: top;\n",
       "    }\n",
       "\n",
       "    .dataframe thead th {\n",
       "        text-align: right;\n",
       "    }\n",
       "</style>\n",
       "<table border=\"1\" class=\"dataframe\">\n",
       "  <thead>\n",
       "    <tr style=\"text-align: right;\">\n",
       "      <th></th>\n",
       "      <th>past_0</th>\n",
       "      <th>past_1</th>\n",
       "      <th>past_2</th>\n",
       "      <th>past_3</th>\n",
       "      <th>past_4</th>\n",
       "      <th>past_5</th>\n",
       "      <th>past_6</th>\n",
       "      <th>past_7</th>\n",
       "      <th>past_8</th>\n",
       "      <th>past_9</th>\n",
       "      <th>...</th>\n",
       "      <th>past_25</th>\n",
       "      <th>past_26</th>\n",
       "      <th>past_27</th>\n",
       "      <th>past_0</th>\n",
       "      <th>past_1</th>\n",
       "      <th>past_2</th>\n",
       "      <th>past_3</th>\n",
       "      <th>past_4</th>\n",
       "      <th>past_5</th>\n",
       "      <th>past_6</th>\n",
       "    </tr>\n",
       "  </thead>\n",
       "  <tbody>\n",
       "    <tr>\n",
       "      <td>0</td>\n",
       "      <td>44.6558</td>\n",
       "      <td>44.5205</td>\n",
       "      <td>44.8442</td>\n",
       "      <td>44.5740</td>\n",
       "      <td>44.7925</td>\n",
       "      <td>44.9298</td>\n",
       "      <td>45.0872</td>\n",
       "      <td>45.2999</td>\n",
       "      <td>45.4242</td>\n",
       "      <td>45.2839</td>\n",
       "      <td>...</td>\n",
       "      <td>45.4535</td>\n",
       "      <td>45.3175</td>\n",
       "      <td>45.0810</td>\n",
       "      <td>44.9885</td>\n",
       "      <td>44.6299</td>\n",
       "      <td>44.7470</td>\n",
       "      <td>44.4845</td>\n",
       "      <td>44.3302</td>\n",
       "      <td>44.0936</td>\n",
       "      <td>43.7023</td>\n",
       "    </tr>\n",
       "    <tr>\n",
       "      <td>1</td>\n",
       "      <td>44.5205</td>\n",
       "      <td>44.8442</td>\n",
       "      <td>44.5740</td>\n",
       "      <td>44.7925</td>\n",
       "      <td>44.9298</td>\n",
       "      <td>45.0872</td>\n",
       "      <td>45.2999</td>\n",
       "      <td>45.4242</td>\n",
       "      <td>45.2839</td>\n",
       "      <td>44.9261</td>\n",
       "      <td>...</td>\n",
       "      <td>45.3175</td>\n",
       "      <td>45.0810</td>\n",
       "      <td>44.9885</td>\n",
       "      <td>44.6299</td>\n",
       "      <td>44.7470</td>\n",
       "      <td>44.4845</td>\n",
       "      <td>44.3302</td>\n",
       "      <td>44.0936</td>\n",
       "      <td>43.7023</td>\n",
       "      <td>43.9775</td>\n",
       "    </tr>\n",
       "    <tr>\n",
       "      <td>2</td>\n",
       "      <td>44.8442</td>\n",
       "      <td>44.5740</td>\n",
       "      <td>44.7925</td>\n",
       "      <td>44.9298</td>\n",
       "      <td>45.0872</td>\n",
       "      <td>45.2999</td>\n",
       "      <td>45.4242</td>\n",
       "      <td>45.2839</td>\n",
       "      <td>44.9261</td>\n",
       "      <td>45.2577</td>\n",
       "      <td>...</td>\n",
       "      <td>45.0810</td>\n",
       "      <td>44.9885</td>\n",
       "      <td>44.6299</td>\n",
       "      <td>44.7470</td>\n",
       "      <td>44.4845</td>\n",
       "      <td>44.3302</td>\n",
       "      <td>44.0936</td>\n",
       "      <td>43.7023</td>\n",
       "      <td>43.9775</td>\n",
       "      <td>43.6569</td>\n",
       "    </tr>\n",
       "    <tr>\n",
       "      <td>3</td>\n",
       "      <td>44.5740</td>\n",
       "      <td>44.7925</td>\n",
       "      <td>44.9298</td>\n",
       "      <td>45.0872</td>\n",
       "      <td>45.2999</td>\n",
       "      <td>45.4242</td>\n",
       "      <td>45.2839</td>\n",
       "      <td>44.9261</td>\n",
       "      <td>45.2577</td>\n",
       "      <td>45.1681</td>\n",
       "      <td>...</td>\n",
       "      <td>44.9885</td>\n",
       "      <td>44.6299</td>\n",
       "      <td>44.7470</td>\n",
       "      <td>44.4845</td>\n",
       "      <td>44.3302</td>\n",
       "      <td>44.0936</td>\n",
       "      <td>43.7023</td>\n",
       "      <td>43.9775</td>\n",
       "      <td>43.6569</td>\n",
       "      <td>44.0091</td>\n",
       "    </tr>\n",
       "    <tr>\n",
       "      <td>4</td>\n",
       "      <td>44.7925</td>\n",
       "      <td>44.9298</td>\n",
       "      <td>45.0872</td>\n",
       "      <td>45.2999</td>\n",
       "      <td>45.4242</td>\n",
       "      <td>45.2839</td>\n",
       "      <td>44.9261</td>\n",
       "      <td>45.2577</td>\n",
       "      <td>45.1681</td>\n",
       "      <td>45.1488</td>\n",
       "      <td>...</td>\n",
       "      <td>44.6299</td>\n",
       "      <td>44.7470</td>\n",
       "      <td>44.4845</td>\n",
       "      <td>44.3302</td>\n",
       "      <td>44.0936</td>\n",
       "      <td>43.7023</td>\n",
       "      <td>43.9775</td>\n",
       "      <td>43.6569</td>\n",
       "      <td>44.0091</td>\n",
       "      <td>44.2125</td>\n",
       "    </tr>\n",
       "  </tbody>\n",
       "</table>\n",
       "<p>5 rows × 35 columns</p>\n",
       "</div>"
      ],
      "text/plain": [
       "    past_0   past_1   past_2   past_3   past_4   past_5   past_6   past_7  \\\n",
       "0  44.6558  44.5205  44.8442  44.5740  44.7925  44.9298  45.0872  45.2999   \n",
       "1  44.5205  44.8442  44.5740  44.7925  44.9298  45.0872  45.2999  45.4242   \n",
       "2  44.8442  44.5740  44.7925  44.9298  45.0872  45.2999  45.4242  45.2839   \n",
       "3  44.5740  44.7925  44.9298  45.0872  45.2999  45.4242  45.2839  44.9261   \n",
       "4  44.7925  44.9298  45.0872  45.2999  45.4242  45.2839  44.9261  45.2577   \n",
       "\n",
       "    past_8   past_9  ...  past_25  past_26  past_27   past_0   past_1  \\\n",
       "0  45.4242  45.2839  ...  45.4535  45.3175  45.0810  44.9885  44.6299   \n",
       "1  45.2839  44.9261  ...  45.3175  45.0810  44.9885  44.6299  44.7470   \n",
       "2  44.9261  45.2577  ...  45.0810  44.9885  44.6299  44.7470  44.4845   \n",
       "3  45.2577  45.1681  ...  44.9885  44.6299  44.7470  44.4845  44.3302   \n",
       "4  45.1681  45.1488  ...  44.6299  44.7470  44.4845  44.3302  44.0936   \n",
       "\n",
       "    past_2   past_3   past_4   past_5   past_6  \n",
       "0  44.7470  44.4845  44.3302  44.0936  43.7023  \n",
       "1  44.4845  44.3302  44.0936  43.7023  43.9775  \n",
       "2  44.3302  44.0936  43.7023  43.9775  43.6569  \n",
       "3  44.0936  43.7023  43.9775  43.6569  44.0091  \n",
       "4  43.7023  43.9775  43.6569  44.0091  44.2125  \n",
       "\n",
       "[5 rows x 35 columns]"
      ]
     },
     "execution_count": 5,
     "metadata": {},
     "output_type": "execute_result"
    }
   ],
   "source": [
    "past_columns = [f\"past_{i}\" for i in range(past)]\n",
    "future_columns = [f\"past_{i}\" for i in range(future)]\n",
    "\n",
    "df = pd.DataFrame(raw_df, columns=(past_columns + future_columns))\n",
    "df.head()\n"
   ]
  },
  {
   "cell_type": "markdown",
   "metadata": {},
   "source": [
    "# Markup new data"
   ]
  },
  {
   "cell_type": "code",
   "execution_count": 6,
   "metadata": {},
   "outputs": [],
   "source": [
    "x = df[past_columns][:1]\n",
    "y = df[future_columns][:1]\n"
   ]
  },
  {
   "cell_type": "code",
   "execution_count": 7,
   "metadata": {},
   "outputs": [
    {
     "data": {
      "text/html": [
       "<div>\n",
       "<style scoped>\n",
       "    .dataframe tbody tr th:only-of-type {\n",
       "        vertical-align: middle;\n",
       "    }\n",
       "\n",
       "    .dataframe tbody tr th {\n",
       "        vertical-align: top;\n",
       "    }\n",
       "\n",
       "    .dataframe thead th {\n",
       "        text-align: right;\n",
       "    }\n",
       "</style>\n",
       "<table border=\"1\" class=\"dataframe\">\n",
       "  <thead>\n",
       "    <tr style=\"text-align: right;\">\n",
       "      <th></th>\n",
       "      <th>past_0</th>\n",
       "      <th>past_0</th>\n",
       "      <th>past_1</th>\n",
       "      <th>past_1</th>\n",
       "      <th>past_2</th>\n",
       "      <th>past_2</th>\n",
       "      <th>past_3</th>\n",
       "      <th>past_3</th>\n",
       "      <th>past_4</th>\n",
       "      <th>past_4</th>\n",
       "      <th>...</th>\n",
       "      <th>past_18</th>\n",
       "      <th>past_19</th>\n",
       "      <th>past_20</th>\n",
       "      <th>past_21</th>\n",
       "      <th>past_22</th>\n",
       "      <th>past_23</th>\n",
       "      <th>past_24</th>\n",
       "      <th>past_25</th>\n",
       "      <th>past_26</th>\n",
       "      <th>past_27</th>\n",
       "    </tr>\n",
       "  </thead>\n",
       "  <tbody>\n",
       "    <tr>\n",
       "      <td>0</td>\n",
       "      <td>44.6558</td>\n",
       "      <td>44.9885</td>\n",
       "      <td>44.5205</td>\n",
       "      <td>44.6299</td>\n",
       "      <td>44.8442</td>\n",
       "      <td>44.747</td>\n",
       "      <td>44.574</td>\n",
       "      <td>44.4845</td>\n",
       "      <td>44.7925</td>\n",
       "      <td>44.3302</td>\n",
       "      <td>...</td>\n",
       "      <td>44.8382</td>\n",
       "      <td>44.8945</td>\n",
       "      <td>45.0662</td>\n",
       "      <td>44.8507</td>\n",
       "      <td>45.0835</td>\n",
       "      <td>45.2344</td>\n",
       "      <td>45.352</td>\n",
       "      <td>45.4535</td>\n",
       "      <td>45.3175</td>\n",
       "      <td>45.081</td>\n",
       "    </tr>\n",
       "  </tbody>\n",
       "</table>\n",
       "<p>1 rows × 35 columns</p>\n",
       "</div>"
      ],
      "text/plain": [
       "    past_0   past_0   past_1   past_1   past_2  past_2  past_3   past_3  \\\n",
       "0  44.6558  44.9885  44.5205  44.6299  44.8442  44.747  44.574  44.4845   \n",
       "\n",
       "    past_4   past_4  ...  past_18  past_19  past_20  past_21  past_22  \\\n",
       "0  44.7925  44.3302  ...  44.8382  44.8945  45.0662  44.8507  45.0835   \n",
       "\n",
       "   past_23  past_24  past_25  past_26  past_27  \n",
       "0  45.2344   45.352  45.4535  45.3175   45.081  \n",
       "\n",
       "[1 rows x 35 columns]"
      ]
     },
     "execution_count": 7,
     "metadata": {},
     "output_type": "execute_result"
    }
   ],
   "source": [
    "x"
   ]
  },
  {
   "cell_type": "code",
   "execution_count": 8,
   "metadata": {},
   "outputs": [
    {
     "data": {
      "text/html": [
       "<div>\n",
       "<style scoped>\n",
       "    .dataframe tbody tr th:only-of-type {\n",
       "        vertical-align: middle;\n",
       "    }\n",
       "\n",
       "    .dataframe tbody tr th {\n",
       "        vertical-align: top;\n",
       "    }\n",
       "\n",
       "    .dataframe thead th {\n",
       "        text-align: right;\n",
       "    }\n",
       "</style>\n",
       "<table border=\"1\" class=\"dataframe\">\n",
       "  <thead>\n",
       "    <tr style=\"text-align: right;\">\n",
       "      <th></th>\n",
       "      <th>past_0</th>\n",
       "      <th>past_0</th>\n",
       "      <th>past_1</th>\n",
       "      <th>past_1</th>\n",
       "      <th>past_2</th>\n",
       "      <th>past_2</th>\n",
       "      <th>past_3</th>\n",
       "      <th>past_3</th>\n",
       "      <th>past_4</th>\n",
       "      <th>past_4</th>\n",
       "      <th>past_5</th>\n",
       "      <th>past_5</th>\n",
       "      <th>past_6</th>\n",
       "      <th>past_6</th>\n",
       "    </tr>\n",
       "  </thead>\n",
       "  <tbody>\n",
       "    <tr>\n",
       "      <td>0</td>\n",
       "      <td>44.6558</td>\n",
       "      <td>44.9885</td>\n",
       "      <td>44.5205</td>\n",
       "      <td>44.6299</td>\n",
       "      <td>44.8442</td>\n",
       "      <td>44.747</td>\n",
       "      <td>44.574</td>\n",
       "      <td>44.4845</td>\n",
       "      <td>44.7925</td>\n",
       "      <td>44.3302</td>\n",
       "      <td>44.9298</td>\n",
       "      <td>44.0936</td>\n",
       "      <td>45.0872</td>\n",
       "      <td>43.7023</td>\n",
       "    </tr>\n",
       "  </tbody>\n",
       "</table>\n",
       "</div>"
      ],
      "text/plain": [
       "    past_0   past_0   past_1   past_1   past_2  past_2  past_3   past_3  \\\n",
       "0  44.6558  44.9885  44.5205  44.6299  44.8442  44.747  44.574  44.4845   \n",
       "\n",
       "    past_4   past_4   past_5   past_5   past_6   past_6  \n",
       "0  44.7925  44.3302  44.9298  44.0936  45.0872  43.7023  "
      ]
     },
     "execution_count": 8,
     "metadata": {},
     "output_type": "execute_result"
    }
   ],
   "source": [
    "y"
   ]
  },
  {
   "cell_type": "code",
   "execution_count": 9,
   "metadata": {},
   "outputs": [],
   "source": [
    "X_test = df[past_columns][-1:]\n",
    "Y_test = df[future_columns][-1:]"
   ]
  },
  {
   "cell_type": "code",
   "execution_count": 10,
   "metadata": {},
   "outputs": [
    {
     "data": {
      "text/html": [
       "<div>\n",
       "<style scoped>\n",
       "    .dataframe tbody tr th:only-of-type {\n",
       "        vertical-align: middle;\n",
       "    }\n",
       "\n",
       "    .dataframe tbody tr th {\n",
       "        vertical-align: top;\n",
       "    }\n",
       "\n",
       "    .dataframe thead th {\n",
       "        text-align: right;\n",
       "    }\n",
       "</style>\n",
       "<table border=\"1\" class=\"dataframe\">\n",
       "  <thead>\n",
       "    <tr style=\"text-align: right;\">\n",
       "      <th></th>\n",
       "      <th>past_0</th>\n",
       "      <th>past_0</th>\n",
       "      <th>past_1</th>\n",
       "      <th>past_1</th>\n",
       "      <th>past_2</th>\n",
       "      <th>past_2</th>\n",
       "      <th>past_3</th>\n",
       "      <th>past_3</th>\n",
       "      <th>past_4</th>\n",
       "      <th>past_4</th>\n",
       "      <th>...</th>\n",
       "      <th>past_18</th>\n",
       "      <th>past_19</th>\n",
       "      <th>past_20</th>\n",
       "      <th>past_21</th>\n",
       "      <th>past_22</th>\n",
       "      <th>past_23</th>\n",
       "      <th>past_24</th>\n",
       "      <th>past_25</th>\n",
       "      <th>past_26</th>\n",
       "      <th>past_27</th>\n",
       "    </tr>\n",
       "  </thead>\n",
       "  <tbody>\n",
       "    <tr>\n",
       "      <td>373</td>\n",
       "      <td>44.1555</td>\n",
       "      <td>44.3785</td>\n",
       "      <td>44.17</td>\n",
       "      <td>44.3487</td>\n",
       "      <td>44.1245</td>\n",
       "      <td>44.5651</td>\n",
       "      <td>44.1748</td>\n",
       "      <td>44.7327</td>\n",
       "      <td>44.4027</td>\n",
       "      <td>44.8352</td>\n",
       "      <td>...</td>\n",
       "      <td>44.1646</td>\n",
       "      <td>44.4056</td>\n",
       "      <td>44.2756</td>\n",
       "      <td>44.3664</td>\n",
       "      <td>44.1752</td>\n",
       "      <td>44.6673</td>\n",
       "      <td>44.7388</td>\n",
       "      <td>45.0804</td>\n",
       "      <td>45.2862</td>\n",
       "      <td>44.9661</td>\n",
       "    </tr>\n",
       "  </tbody>\n",
       "</table>\n",
       "<p>1 rows × 35 columns</p>\n",
       "</div>"
      ],
      "text/plain": [
       "      past_0   past_0  past_1   past_1   past_2   past_2   past_3   past_3  \\\n",
       "373  44.1555  44.3785   44.17  44.3487  44.1245  44.5651  44.1748  44.7327   \n",
       "\n",
       "      past_4   past_4  ...  past_18  past_19  past_20  past_21  past_22  \\\n",
       "373  44.4027  44.8352  ...  44.1646  44.4056  44.2756  44.3664  44.1752   \n",
       "\n",
       "     past_23  past_24  past_25  past_26  past_27  \n",
       "373  44.6673  44.7388  45.0804  45.2862  44.9661  \n",
       "\n",
       "[1 rows x 35 columns]"
      ]
     },
     "execution_count": 10,
     "metadata": {},
     "output_type": "execute_result"
    }
   ],
   "source": [
    "X_test"
   ]
  },
  {
   "cell_type": "code",
   "execution_count": 11,
   "metadata": {},
   "outputs": [
    {
     "data": {
      "text/html": [
       "<div>\n",
       "<style scoped>\n",
       "    .dataframe tbody tr th:only-of-type {\n",
       "        vertical-align: middle;\n",
       "    }\n",
       "\n",
       "    .dataframe tbody tr th {\n",
       "        vertical-align: top;\n",
       "    }\n",
       "\n",
       "    .dataframe thead th {\n",
       "        text-align: right;\n",
       "    }\n",
       "</style>\n",
       "<table border=\"1\" class=\"dataframe\">\n",
       "  <thead>\n",
       "    <tr style=\"text-align: right;\">\n",
       "      <th></th>\n",
       "      <th>past_0</th>\n",
       "      <th>past_0</th>\n",
       "      <th>past_1</th>\n",
       "      <th>past_1</th>\n",
       "      <th>past_2</th>\n",
       "      <th>past_2</th>\n",
       "      <th>past_3</th>\n",
       "      <th>past_3</th>\n",
       "      <th>past_4</th>\n",
       "      <th>past_4</th>\n",
       "      <th>past_5</th>\n",
       "      <th>past_5</th>\n",
       "      <th>past_6</th>\n",
       "      <th>past_6</th>\n",
       "    </tr>\n",
       "  </thead>\n",
       "  <tbody>\n",
       "    <tr>\n",
       "      <td>373</td>\n",
       "      <td>44.1555</td>\n",
       "      <td>44.3785</td>\n",
       "      <td>44.17</td>\n",
       "      <td>44.3487</td>\n",
       "      <td>44.1245</td>\n",
       "      <td>44.5651</td>\n",
       "      <td>44.1748</td>\n",
       "      <td>44.7327</td>\n",
       "      <td>44.4027</td>\n",
       "      <td>44.8352</td>\n",
       "      <td>44.3488</td>\n",
       "      <td>44.9809</td>\n",
       "      <td>44.3355</td>\n",
       "      <td>44.6678</td>\n",
       "    </tr>\n",
       "  </tbody>\n",
       "</table>\n",
       "</div>"
      ],
      "text/plain": [
       "      past_0   past_0  past_1   past_1   past_2   past_2   past_3   past_3  \\\n",
       "373  44.1555  44.3785   44.17  44.3487  44.1245  44.5651  44.1748  44.7327   \n",
       "\n",
       "      past_4   past_4   past_5   past_5   past_6   past_6  \n",
       "373  44.4027  44.8352  44.3488  44.9809  44.3355  44.6678  "
      ]
     },
     "execution_count": 11,
     "metadata": {},
     "output_type": "execute_result"
    }
   ],
   "source": [
    "Y_test"
   ]
  },
  {
   "cell_type": "markdown",
   "metadata": {},
   "source": [
    "# Fit model"
   ]
  },
  {
   "cell_type": "code",
   "execution_count": 12,
   "metadata": {},
   "outputs": [],
   "source": [
    "from sklearn.neighbors import KNeighborsRegressor"
   ]
  },
  {
   "cell_type": "code",
   "execution_count": 13,
   "metadata": {},
   "outputs": [],
   "source": [
    "KNN = KNeighborsRegressor(n_neighbors=1)"
   ]
  },
  {
   "cell_type": "code",
   "execution_count": 14,
   "metadata": {},
   "outputs": [
    {
     "data": {
      "text/plain": [
       "KNeighborsRegressor(algorithm='auto', leaf_size=30, metric='minkowski',\n",
       "                    metric_params=None, n_jobs=None, n_neighbors=1, p=2,\n",
       "                    weights='uniform')"
      ]
     },
     "execution_count": 14,
     "metadata": {},
     "output_type": "execute_result"
    }
   ],
   "source": [
    "KNN.fit(x,y)"
   ]
  },
  {
   "cell_type": "markdown",
   "metadata": {},
   "source": [
    "# Prediction charting"
   ]
  },
  {
   "cell_type": "code",
   "execution_count": 15,
   "metadata": {},
   "outputs": [],
   "source": [
    "prediction = KNN.predict(X_test)[0]"
   ]
  },
  {
   "cell_type": "code",
   "execution_count": 20,
   "metadata": {},
   "outputs": [
    {
     "data": {
      "text/plain": [
       "<function matplotlib.pyplot.legend(*args, **kwargs)>"
      ]
     },
     "execution_count": 20,
     "metadata": {},
     "output_type": "execute_result"
    },
    {
     "data": {
      "image/png": "[encoded data removed]",
      "text/plain": [
       "<Figure size 432x288 with 1 Axes>"
      ]
     },
     "metadata": {
      "needs_background": "light"
     },
     "output_type": "display_data"
    }
   ],
   "source": [
    "plt.plot(prediction, label='test')\n",
    "plt.plot(Y_test.iloc[0], label='real_data')\n",
    "plt.legend"
   ]
  },
  {
   "cell_type": "code",
   "execution_count": 17,
   "metadata": {},
   "outputs": [
    {
     "name": "stdout",
     "output_type": "stream",
     "text": [
      "Mean Squared Error = 0.3303869878571421\n",
      "Mean Absolute Error = 0.5265214285714279\n"
     ]
    }
   ],
   "source": [
    "np.array([prediction])\n",
    "np.array([list(Y_test.iloc[0])])\n",
    "\n",
    "MSE = sklearn.metrics.mean_squared_error(np.array([list(Y_test.iloc[0])]), np.array([prediction]))\n",
    "print(\"Mean Squared Error = \" + str(MSE))\n",
    "\n",
    "MAE = sklearn.metrics.mean_absolute_error(np.array([list(Y_test.iloc[0])]), np.array([prediction]))\n",
    "print(\"Mean Absolute Error = \" + str(MAE))"
   ]
  },
  {
   "cell_type": "markdown",
   "metadata": {},
   "source": [
    "# MSE and MAE (errors parameters)"
   ]
  },
  {
   "cell_type": "code",
   "execution_count": 18,
   "metadata": {},
   "outputs": [
    {
     "name": "stdout",
     "output_type": "stream",
     "text": [
      "Mean Squared Error = 0.3303869878571421\n",
      "Mean Absolute Error = 0.5265214285714279\n"
     ]
    }
   ],
   "source": [
    "np.array([prediction])\n",
    "np.array([list(Y_test.iloc[0])])\n",
    "\n",
    "MSE = sklearn.metrics.mean_squared_error(np.array([list(Y_test.iloc[0])]), np.array([prediction]))\n",
    "print(\"Mean Squared Error = \" + str(MSE))\n",
    "\n",
    "MAE = sklearn.metrics.mean_absolute_error(np.array([list(Y_test.iloc[0])]), np.array([prediction]))\n",
    "print(\"Mean Absolute Error = \" + str(MAE))\n"
   ]
  },
  {
   "cell_type": "code",
   "execution_count": 19,
   "metadata": {},
   "outputs": [
    {
     "data": {
      "text/plain": [
       "2.1506784580685205"
      ]
     },
     "execution_count": 19,
     "metadata": {},
     "output_type": "execute_result"
    }
   ],
   "source": [
    "diff = np.linalg.norm(Y_test - prediction)\n",
    "diff"
   ]
  },
  {
   "cell_type": "code",
   "execution_count": null,
   "metadata": {},
   "outputs": [],
   "source": []
  },
  {
   "cell_type": "code",
   "execution_count": null,
   "metadata": {},
   "outputs": [],
   "source": []
  },
  {
   "cell_type": "code",
   "execution_count": null,
   "metadata": {},
   "outputs": [],
   "source": []
  },
  {
   "cell_type": "code",
   "execution_count": null,
   "metadata": {},
   "outputs": [],
   "source": []
  },
  {
   "cell_type": "code",
   "execution_count": null,
   "metadata": {},
   "outputs": [],
   "source": []
  },
  {
   "cell_type": "code",
   "execution_count": null,
   "metadata": {},
   "outputs": [],
   "source": []
  },
  {
   "cell_type": "code",
   "execution_count": null,
   "metadata": {},
   "outputs": [],
   "source": []
  },
  {
   "cell_type": "code",
   "execution_count": null,
   "metadata": {},
   "outputs": [],
   "source": []
  },
  {
   "cell_type": "code",
   "execution_count": null,
   "metadata": {},
   "outputs": [],
   "source": []
  },
  {
   "cell_type": "code",
   "execution_count": null,
   "metadata": {},
   "outputs": [],
   "source": []
  },
  {
   "cell_type": "code",
   "execution_count": null,
   "metadata": {},
   "outputs": [],
   "source": []
  },
  {
   "cell_type": "code",
   "execution_count": null,
   "metadata": {},
   "outputs": [],
   "source": []
  },
  {
   "cell_type": "code",
   "execution_count": null,
   "metadata": {},
   "outputs": [],
   "source": []
  },
  {
   "cell_type": "code",
   "execution_count": null,
   "metadata": {},
   "outputs": [],
   "source": []
  },
  {
   "cell_type": "code",
   "execution_count": null,
   "metadata": {},
   "outputs": [],
   "source": []
  },
  {
   "cell_type": "code",
   "execution_count": null,
   "metadata": {},
   "outputs": [],
   "source": []
  },
  {
   "cell_type": "code",
   "execution_count": null,
   "metadata": {},
   "outputs": [],
   "source": []
  },
  {
   "cell_type": "code",
   "execution_count": null,
   "metadata": {},
   "outputs": [],
   "source": []
  },
  {
   "cell_type": "code",
   "execution_count": null,
   "metadata": {},
   "outputs": [],
   "source": []
  },
  {
   "cell_type": "code",
   "execution_count": null,
   "metadata": {},
   "outputs": [],
   "source": []
  },
  {
   "cell_type": "code",
   "execution_count": null,
   "metadata": {},
   "outputs": [],
   "source": []
  },
  {
   "cell_type": "code",
   "execution_count": null,
   "metadata": {},
   "outputs": [],
   "source": []
  },
  {
   "cell_type": "code",
   "execution_count": null,
   "metadata": {},
   "outputs": [],
   "source": []
  },
  {
   "cell_type": "code",
   "execution_count": null,
   "metadata": {},
   "outputs": [],
   "source": []
  },
  {
   "cell_type": "code",
   "execution_count": null,
   "metadata": {},
   "outputs": [],
   "source": []
  },
  {
   "cell_type": "code",
   "execution_count": null,
   "metadata": {},
   "outputs": [],
   "source": []
  },
  {
   "cell_type": "code",
   "execution_count": null,
   "metadata": {},
   "outputs": [],
   "source": []
  },
  {
   "cell_type": "code",
   "execution_count": null,
   "metadata": {},
   "outputs": [],
   "source": []
  },
  {
   "cell_type": "code",
   "execution_count": null,
   "metadata": {},
   "outputs": [],
   "source": []
  },
  {
   "cell_type": "code",
   "execution_count": null,
   "metadata": {},
   "outputs": [],
   "source": []
  },
  {
   "cell_type": "code",
   "execution_count": null,
   "metadata": {},
   "outputs": [],
   "source": []
  },
  {
   "cell_type": "code",
   "execution_count": null,
   "metadata": {},
   "outputs": [],
   "source": []
  },
  {
   "cell_type": "code",
   "execution_count": null,
   "metadata": {},
   "outputs": [],
   "source": []
  },
  {
   "cell_type": "code",
   "execution_count": null,
   "metadata": {},
   "outputs": [],
   "source": []
  },
  {
   "cell_type": "code",
   "execution_count": null,
   "metadata": {},
   "outputs": [],
   "source": []
  },
  {
   "cell_type": "code",
   "execution_count": null,
   "metadata": {},
   "outputs": [],
   "source": []
  },
  {
   "cell_type": "code",
   "execution_count": null,
   "metadata": {},
   "outputs": [],
   "source": []
  },
  {
   "cell_type": "code",
   "execution_count": null,
   "metadata": {},
   "outputs": [],
   "source": []
  },
  {
   "cell_type": "code",
   "execution_count": null,
   "metadata": {},
   "outputs": [],
   "source": []
  },
  {
   "cell_type": "code",
   "execution_count": null,
   "metadata": {},
   "outputs": [],
   "source": []
  },
  {
   "cell_type": "code",
   "execution_count": null,
   "metadata": {},
   "outputs": [],
   "source": []
  },
  {
   "cell_type": "code",
   "execution_count": null,
   "metadata": {},
   "outputs": [],
   "source": []
  },
  {
   "cell_type": "code",
   "execution_count": null,
   "metadata": {},
   "outputs": [],
   "source": []
  },
  {
   "cell_type": "code",
   "execution_count": null,
   "metadata": {},
   "outputs": [],
   "source": []
  },
  {
   "cell_type": "code",
   "execution_count": null,
   "metadata": {},
   "outputs": [],
   "source": []
  },
  {
   "cell_type": "code",
   "execution_count": null,
   "metadata": {},
   "outputs": [],
   "source": []
  },
  {
   "cell_type": "code",
   "execution_count": null,
   "metadata": {},
   "outputs": [],
   "source": []
  },
  {
   "cell_type": "code",
   "execution_count": null,
   "metadata": {},
   "outputs": [],
   "source": []
  },
  {
   "cell_type": "code",
   "execution_count": null,
   "metadata": {},
   "outputs": [],
   "source": []
  },
  {
   "cell_type": "code",
   "execution_count": null,
   "metadata": {},
   "outputs": [],
   "source": []
  },
  {
   "cell_type": "code",
   "execution_count": null,
   "metadata": {},
   "outputs": [],
   "source": []
  },
  {
   "cell_type": "code",
   "execution_count": null,
   "metadata": {},
   "outputs": [],
   "source": []
  },
  {
   "cell_type": "code",
   "execution_count": null,
   "metadata": {},
   "outputs": [],
   "source": []
  },
  {
   "cell_type": "code",
   "execution_count": null,
   "metadata": {},
   "outputs": [],
   "source": []
  },
  {
   "cell_type": "code",
   "execution_count": null,
   "metadata": {},
   "outputs": [],
   "source": []
  },
  {
   "cell_type": "code",
   "execution_count": null,
   "metadata": {},
   "outputs": [],
   "source": []
  },
  {
   "cell_type": "code",
   "execution_count": null,
   "metadata": {},
   "outputs": [],
   "source": []
  },
  {
   "cell_type": "code",
   "execution_count": null,
   "metadata": {},
   "outputs": [],
   "source": []
  },
  {
   "cell_type": "code",
   "execution_count": null,
   "metadata": {},
   "outputs": [],
   "source": []
  },
  {
   "cell_type": "code",
   "execution_count": null,
   "metadata": {},
   "outputs": [],
   "source": []
  },
  {
   "cell_type": "code",
   "execution_count": null,
   "metadata": {},
   "outputs": [],
   "source": []
  },
  {
   "cell_type": "code",
   "execution_count": null,
   "metadata": {},
   "outputs": [],
   "source": []
  },
  {
   "cell_type": "code",
   "execution_count": null,
   "metadata": {},
   "outputs": [],
   "source": []
  },
  {
   "cell_type": "code",
   "execution_count": null,
   "metadata": {},
   "outputs": [],
   "source": []
  },
  {
   "cell_type": "code",
   "execution_count": null,
   "metadata": {},
   "outputs": [],
   "source": []
  },
  {
   "cell_type": "code",
   "execution_count": null,
   "metadata": {},
   "outputs": [],
   "source": []
  },
  {
   "cell_type": "code",
   "execution_count": null,
   "metadata": {},
   "outputs": [],
   "source": []
  },
  {
   "cell_type": "code",
   "execution_count": null,
   "metadata": {},
   "outputs": [],
   "source": []
  },
  {
   "cell_type": "code",
   "execution_count": null,
   "metadata": {},
   "outputs": [],
   "source": []
  },
  {
   "cell_type": "code",
   "execution_count": null,
   "metadata": {},
   "outputs": [],
   "source": []
  },
  {
   "cell_type": "code",
   "execution_count": null,
   "metadata": {},
   "outputs": [],
   "source": []
  },
  {
   "cell_type": "code",
   "execution_count": null,
   "metadata": {},
   "outputs": [],
   "source": []
  },
  {
   "cell_type": "code",
   "execution_count": null,
   "metadata": {},
   "outputs": [],
   "source": []
  },
  {
   "cell_type": "code",
   "execution_count": null,
   "metadata": {},
   "outputs": [],
   "source": []
  },
  {
   "cell_type": "code",
   "execution_count": null,
   "metadata": {},
   "outputs": [],
   "source": []
  },
  {
   "cell_type": "code",
   "execution_count": null,
   "metadata": {},
   "outputs": [],
   "source": []
  },
  {
   "cell_type": "code",
   "execution_count": null,
   "metadata": {},
   "outputs": [],
   "source": []
  },
  {
   "cell_type": "code",
   "execution_count": null,
   "metadata": {},
   "outputs": [],
   "source": []
  },
  {
   "cell_type": "code",
   "execution_count": null,
   "metadata": {},
   "outputs": [],
   "source": []
  },
  {
   "cell_type": "code",
   "execution_count": null,
   "metadata": {},
   "outputs": [],
   "source": []
  },
  {
   "cell_type": "code",
   "execution_count": null,
   "metadata": {},
   "outputs": [],
   "source": []
  },
  {
   "cell_type": "code",
   "execution_count": null,
   "metadata": {},
   "outputs": [],
   "source": []
  },
  {
   "cell_type": "code",
   "execution_count": null,
   "metadata": {},
   "outputs": [],
   "source": []
  },
  {
   "cell_type": "code",
   "execution_count": null,
   "metadata": {},
   "outputs": [],
   "source": []
  },
  {
   "cell_type": "code",
   "execution_count": null,
   "metadata": {},
   "outputs": [],
   "source": []
  },
  {
   "cell_type": "code",
   "execution_count": null,
   "metadata": {},
   "outputs": [],
   "source": []
  },
  {
   "cell_type": "code",
   "execution_count": null,
   "metadata": {},
   "outputs": [],
   "source": []
  },
  {
   "cell_type": "code",
   "execution_count": null,
   "metadata": {},
   "outputs": [],
   "source": []
  },
  {
   "cell_type": "code",
   "execution_count": null,
   "metadata": {},
   "outputs": [],
   "source": []
  },
  {
   "cell_type": "code",
   "execution_count": null,
   "metadata": {},
   "outputs": [],
   "source": []
  },
  {
   "cell_type": "code",
   "execution_count": null,
   "metadata": {},
   "outputs": [],
   "source": []
  }
 ],
 "metadata": {
  "kernelspec": {
   "display_name": "Python 3",
   "language": "python",
   "name": "python3"
  },
  "language_info": {
   "codemirror_mode": {
    "name": "ipython",
    "version": 3
   },
   "file_extension": ".py",
   "mimetype": "text/x-python",
   "name": "python",
   "nbconvert_exporter": "python",
   "pygments_lexer": "ipython3",
   "version": "3.7.4"
  }
 },
 "nbformat": 4,
 "nbformat_minor": 2
}
